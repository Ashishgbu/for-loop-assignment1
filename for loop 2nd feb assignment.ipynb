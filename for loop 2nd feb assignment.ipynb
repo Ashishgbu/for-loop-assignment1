{
 "cells": [
  {
   "cell_type": "code",
   "execution_count": 2,
   "id": "c5a0f3f8-f9e9-4374-90a5-2828fbd97aa4",
   "metadata": {},
   "outputs": [
    {
     "name": "stdout",
     "output_type": "stream",
     "text": [
      "sum of square is: 1974\n"
     ]
    }
   ],
   "source": [
    "'''\n",
    " question1- Explain with an example each when to use a for loop and a while loop.\n",
    " (for loop)\n",
    " If we have a section of code that we would like to repeat a certain number of \n",
    " times, we employ for loops. The for-loop is usually used on an iterable object \n",
    " such as a list or the in-built range function.\n",
    " syntax of for loop\n",
    " for values in sequence:\n",
    "    loop body\n",
    " '''\n",
    "\n",
    "# sum of square of each element of the list using for loop\n",
    "\n",
    "num = [3,35,23,6,5,1,2,9,8]\n",
    "sum =0 # variable initialization\n",
    "for i in num:\n",
    "    sum = sum + i**2\n",
    "print(\"sum of square is:\",sum)"
   ]
  },
  {
   "cell_type": "code",
   "execution_count": 3,
   "id": "8faaa05b-b8ad-4bf7-a701-80fb39cfe082",
   "metadata": {},
   "outputs": [
    {
     "name": "stdout",
     "output_type": "stream",
     "text": [
      "The sum of squares is 1240\n"
     ]
    }
   ],
   "source": [
    "'''\n",
    "while loop\n",
    "The Python while loop iteration of a code block is executed as long as the given condition, i.e., \n",
    "conditional_expression, is true.\n",
    "If we don't know how many times we'll execute the iteration ahead of time, we can \n",
    "write an indefinite loop.\n",
    "Syntax of Python While Loop\n",
    "\n",
    "while conditional_expression:  \n",
    "    Code block of while \n",
    "  \n",
    "if the conditional expression gives a boolean value True, the while loop statements are executed. \n",
    "The conditional expression is verified again when the complete code block is executed. \n",
    "This procedure repeatedly occurs until the conditional expression returns the boolean value False.\n",
    "'''\n",
    "# sum of square of each element of the list using for loop\n",
    "\n",
    "num = 15  # initializing summation and a counter for iteration    \n",
    "summation = 0  \n",
    "c = 1  \n",
    "  \n",
    "while c <= num: # specifying the condition  \n",
    "    summation =  summation  +c**2 \n",
    "    c = c + 1    # incrementing the counter   \n",
    "print(\"The sum of squares is\", summation)  \n"
   ]
  },
  {
   "cell_type": "code",
   "execution_count": 5,
   "id": "95f53cb1-38c8-4888-824f-f193ddf39f2a",
   "metadata": {},
   "outputs": [
    {
     "name": "stdin",
     "output_type": "stream",
     "text": [
      "Please enter the number:  10\n"
     ]
    },
    {
     "name": "stdout",
     "output_type": "stream",
     "text": [
      "sum of natural number is  55\n"
     ]
    }
   ],
   "source": [
    "'''\n",
    "question2- Write a python program to print the sum and product of the first 10 natural numbers using for \n",
    "and while loop.\n",
    "'''\n",
    "# for loop \n",
    "num = int(input(\"Please enter the number: \"))\n",
    "sum = 0\n",
    "for value in range(1, num + 1):\n",
    "    sum = sum + value   \n",
    "print(\"sum of natural number is \",sum)\n"
   ]
  },
  {
   "cell_type": "code",
   "execution_count": 8,
   "id": "57a1e9ca-6d71-4263-b4dd-fc26bd5c5bc6",
   "metadata": {},
   "outputs": [
    {
     "name": "stdin",
     "output_type": "stream",
     "text": [
      "Please enter the number:  7\n"
     ]
    },
    {
     "name": "stdout",
     "output_type": "stream",
     "text": [
      "product of natural number is  5040\n"
     ]
    }
   ],
   "source": [
    "'''\n",
    "product for \"for loop\"\n",
    "'''\n",
    "num = int(input(\"Please enter the number: \"))\n",
    "pro = 1\n",
    "for value in range(1, num + 1):\n",
    "    pro = pro*value   \n",
    "print(\"product of natural number is \",pro)\n"
   ]
  },
  {
   "cell_type": "code",
   "execution_count": 10,
   "id": "c1b9f485-d0b7-43c2-9eef-bc5b54a00a21",
   "metadata": {},
   "outputs": [
    {
     "name": "stdin",
     "output_type": "stream",
     "text": [
      "Enter a number:  10\n"
     ]
    },
    {
     "name": "stdout",
     "output_type": "stream",
     "text": [
      "The sum is 55\n"
     ]
    }
   ],
   "source": [
    "'''\n",
    "sum for \"while loop\"\n",
    "'''\n",
    "\n",
    "num = int(input(\"Enter a number: \"))    \n",
    "if num < 0:  \n",
    "   print(\"Enter a positive number\")  \n",
    "else:  \n",
    "   sum = 0   \n",
    "   while(num > 0):  # use while loop to iterate un till zero \n",
    "       sum += num  \n",
    "       num -= 1  \n",
    "   print(\"The sum is\",sum)  "
   ]
  },
  {
   "cell_type": "code",
   "execution_count": 11,
   "id": "39fdbcc2-cc37-4dad-aa25-148aefa166d2",
   "metadata": {},
   "outputs": [
    {
     "name": "stdin",
     "output_type": "stream",
     "text": [
      "Enter a number:  10\n"
     ]
    },
    {
     "name": "stdout",
     "output_type": "stream",
     "text": [
      "The pro is 3628800\n"
     ]
    }
   ],
   "source": [
    "'''\n",
    "product for \"while loop\"\n",
    "'''\n",
    "num = int(input(\"Enter a number: \"))    \n",
    "if num < 0:  \n",
    "   print(\"Enter a positive number\")  \n",
    "else:  \n",
    "   pro = 1   \n",
    "   while(num > 0):  # use while loop to iterate un till zero \n",
    "       pro *= num  \n",
    "       num -= 1  \n",
    "   print(\"The pro is\",pro) \n"
   ]
  },
  {
   "cell_type": "code",
   "execution_count": 12,
   "id": "6dc6eb60-fc5f-4fa4-9a18-0265f31cf5e3",
   "metadata": {},
   "outputs": [
    {
     "name": "stdout",
     "output_type": "stream",
     "text": [
      "the total electricity bill should be  2250.0\n"
     ]
    }
   ],
   "source": [
    "'''\n",
    "Q3. Create a python program to compute the electricity bill for a household.\n",
    "he per-unit charges in rupees are as follows: For the first 100 units, the user will be charged Rs. 4.5 per \n",
    "unit, for the next 100 units, the user will be charged Rs. 6 per unit, and for the next 100 units, the user will \n",
    "be charged Rs. 10 per unit, After 300 units and above the user will be charged Rs. 20 per unit.\n",
    "You are required to take the units of electricity consumed in a month from the user as input.\n",
    "Your program must pass this test case: when the unit of electricity consumed by the user in a month is \n",
    "310, the total electricity bill should be 2250.\n",
    "'''\n",
    "units = 310 # electricity unit consumed in one month\n",
    "if (units <= 100):\n",
    "    bill=units*4.5\n",
    "elif (units <= 200):\n",
    "    bill=((100*4.5)+(units-100)*6)\n",
    "elif (units <= 300):\n",
    "    bill=((100*4.5)+(100*6)+(units-200)*10)\n",
    "elif(units > 300):\n",
    "    bill=((100*4.5)+(100*6)+(100*10)+(units-300)*20)\n",
    "print(\"the total electricity bill should be \",bill)"
   ]
  },
  {
   "cell_type": "code",
   "execution_count": 13,
   "id": "6b159d1e-be31-4ea9-b46c-67947760f4d3",
   "metadata": {},
   "outputs": [
    {
     "name": "stdout",
     "output_type": "stream",
     "text": [
      "Number of vowels are:  12\n"
     ]
    }
   ],
   "source": [
    "'''\n",
    "Q4- Write a program to filter count vowels in the below-given string.\n",
    "string = \"I want to become a data scientist\"\n",
    "'''\n",
    "string =\"I want to become a data scientist\"\n",
    "vowels=0\n",
    "for i in string:\n",
    "      if(i=='a' or i=='e' or i=='i' or i=='o' or i=='u' or i=='A' or i=='E' or i=='I' or i=='O' or i=='U'):\n",
    "            vowels=vowels+1\n",
    "print(\"Number of vowels are: \",vowels)\n"
   ]
  },
  {
   "cell_type": "code",
   "execution_count": 14,
   "id": "ad48b48b-b62c-4e92-b8a4-afa75ee010ba",
   "metadata": {},
   "outputs": [
    {
     "name": "stdin",
     "output_type": "stream",
     "text": [
      "Enter lower range limit: 1\n",
      "Enter upper range limit: 100\n"
     ]
    },
    {
     "name": "stdout",
     "output_type": "stream",
     "text": [
      "[64, 125, 512, 1000, 1728, 3375, 4096, 8000, 13824, 15625, 21952, 27000, 32768, 42875, 46656, 64000, 85184, 91125, 110592, 125000, 140608, 166375, 175616, 216000, 262144, 274625, 314432, 343000, 373248, 421875, 438976, 512000, 592704, 614125, 681472, 729000, 778688, 857375, 884736, 1000000]\n"
     ]
    }
   ],
   "source": [
    "'''\n",
    "Q5-  Create a list of numbers from 1 to 100. Use for loop and while loop to calculate the cube of each \n",
    "number and if the cube of that number is divisible by 4 or 5 then append that number in a list and print \n",
    "that list.\n",
    "'''\n",
    "# use of for loop\n",
    "l =[]\n",
    "lower = int(input(\"Enter lower range limit:\")) #start from this\n",
    "upper = int(input(\"Enter upper range limit:\")) #end of the range\n",
    "for i in range(lower,upper+1):\n",
    "   if((i%4==0) or (i%5==0)):\n",
    "      l.append(i**3)\n",
    "print(l)\n",
    "\n"
   ]
  },
  {
   "cell_type": "code",
   "execution_count": null,
   "id": "b5bf371c-3d06-4a06-9e6f-5aa910a0f416",
   "metadata": {},
   "outputs": [],
   "source": []
  }
 ],
 "metadata": {
  "kernelspec": {
   "display_name": "Python 3 (ipykernel)",
   "language": "python",
   "name": "python3"
  },
  "language_info": {
   "codemirror_mode": {
    "name": "ipython",
    "version": 3
   },
   "file_extension": ".py",
   "mimetype": "text/x-python",
   "name": "python",
   "nbconvert_exporter": "python",
   "pygments_lexer": "ipython3",
   "version": "3.10.8"
  }
 },
 "nbformat": 4,
 "nbformat_minor": 5
}
